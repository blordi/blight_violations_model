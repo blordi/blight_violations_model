{
 "cells": [
  {
   "cell_type": "markdown",
   "metadata": {},
   "source": [
    "---\n",
    "\n",
    "_You are currently looking at **version 1.1** of this notebook. To download notebooks and datafiles, as well as get help on Jupyter notebooks in the Coursera platform, visit the [Jupyter Notebook FAQ](https://www.coursera.org/learn/python-machine-learning/resources/bANLa) course resource._\n",
    "\n",
    "---"
   ]
  },
  {
   "cell_type": "markdown",
   "metadata": {},
   "source": [
    "## Understanding and Predicting Property Maintenance Fines\n",
    "This project is based on a data challenge from the Michigan Data Science Team ([MDST](http://midas.umich.edu/mdst/)). \n",
    "\n",
    "[Blight violations](http://www.detroitmi.gov/How-Do-I/Report/Blight-Complaint-FAQs) are issued by the city to individuals who allow their properties to remain in a deteriorated condition. Every year, the city of Detroit issues millions of dollars in fines to residents and every year, many of these fines remain unpaid. Enforcing unpaid blight fines is a costly and tedious process, so the city wants to know: how can we increase blight ticket compliance?\n",
    "\n",
    "The first step in answering this question is understanding when and why a resident might fail to comply with a blight ticket. This is where predictive modeling comes in. For this project, I created a model to predict whether a given blight ticket will be paid on time.\n",
    "\n",
    "All data for this assignment has been provided to us through the [Detroit Open Data Portal](https://data.detroitmi.gov/). \n",
    "___\n",
    "\n",
    "Two data files were used for training and validating the models: train.csv and test.csv. Each row in these two files corresponds to a single blight ticket, and includes information about when, why, and to whom each ticket was issued. The target variable is compliance, which is True if the ticket was paid early, on time, or within one month of the hearing data, False if the ticket was paid after the hearing date or not at all, and Null if the violator was found not responsible. Compliance, as well as a handful of other variables that will not be available at test-time, are only included in train.csv.\n",
    "\n",
    "Note: All tickets where the violators were found not responsible are not considered during evaluation. They are included in the training set as an additional source of data for visualization, and to enable unsupervised and semi-supervised approaches. However, they are not included in the test set.\n",
    "\n",
    "<br>\n",
    "\n",
    "**File descriptions** (Use only this data for training your model!)\n",
    "\n",
    "    readonly/train.csv - the training set (all tickets issued 2004-2011)\n",
    "    readonly/test.csv - the test set (all tickets issued 2012-2016)\n",
    "    readonly/addresses.csv & readonly/latlons.csv - mapping from ticket id to addresses, and from addresses to lat/lon coordinates. \n",
    "     Note: misspelled addresses may be incorrectly geolocated.\n",
    "\n",
    "<br>\n",
    "\n",
    "**Data fields**\n",
    "\n",
    "train.csv & test.csv\n",
    "\n",
    "    ticket_id - unique identifier for tickets\n",
    "    agency_name - Agency that issued the ticket\n",
    "    inspector_name - Name of inspector that issued the ticket\n",
    "    violator_name - Name of the person/organization that the ticket was issued to\n",
    "    violation_street_number, violation_street_name, violation_zip_code - Address where the violation occurred\n",
    "    mailing_address_str_number, mailing_address_str_name, city, state, zip_code, non_us_str_code, country - Mailing address of the violator\n",
    "    ticket_issued_date - Date and time the ticket was issued\n",
    "    hearing_date - Date and time the violator's hearing was scheduled\n",
    "    violation_code, violation_description - Type of violation\n",
    "    disposition - Judgment and judgement type\n",
    "    fine_amount - Violation fine amount, excluding fees\n",
    "    admin_fee - $20 fee assigned to responsible judgments\n",
    "state_fee - $10 fee assigned to responsible judgments\n",
    "    late_fee - 10% fee assigned to responsible judgments\n",
    "    discount_amount - discount applied, if any\n",
    "    clean_up_cost - DPW clean-up or graffiti removal cost\n",
    "    judgment_amount - Sum of all fines and fees\n",
    "    grafitti_status - Flag for graffiti violations\n",
    "    \n",
    "train.csv only\n",
    "\n",
    "    payment_amount - Amount paid, if any\n",
    "    payment_date - Date payment was made, if it was received\n",
    "    payment_status - Current payment status as of Feb 1 2017\n",
    "    balance_due - Fines and fees still owed\n",
    "    collection_status - Flag for payments in collections\n",
    "    compliance [target variable for prediction] \n",
    "     Null = Not responsible\n",
    "     0 = Responsible, non-compliant\n",
    "     1 = Responsible, compliant\n",
    "    compliance_detail - More information on why each ticket was marked compliant or non-compliant\n",
    "\n",
    "\n",
    "___\n",
    "\n",
    "## Evaluation\n",
    "\n",
    "The predictions will be given as the probability that the corresponding blight ticket will be paid on time. This model will return a series of length 61001 with the data being the probability that each corresponding ticket from test.csv will be paid, and the index being the ticket_id.\n",
    "\n",
    "The evaluation metric for this assignment is the Area Under the ROC Curve (AUC). "
   ]
  },
  {
   "cell_type": "code",
   "execution_count": 49,
   "metadata": {
    "collapsed": false,
    "jupyter": {
     "outputs_hidden": false
    }
   },
   "outputs": [],
   "source": [
    "import pandas as pd\n",
    "import numpy as np\n",
    "\n",
    "def blight_model():\n",
    "#     pd.set_option('display.max_rows', None)\n",
    "    from sklearn.preprocessing import LabelEncoder\n",
    "    from sklearn.ensemble import GradientBoostingClassifier\n",
    "    from sklearn.model_selection import train_test_split\n",
    "    from sklearn.metrics import roc_auc_score\n",
    "    \n",
    "    train = pd.read_csv(r\"C:\\Users\\blord\\Documents\\Code Projects\\Coursera\\Applied Machine Learning in Python\\Files\\home\\jovyan\\work\\readonly\\train.csv\", encoding = \"ISO-8859-1\")\n",
    "    test = pd.read_csv(r\"C:\\Users\\blord\\Documents\\Code Projects\\Coursera\\Applied Machine Learning in Python\\Files\\home\\jovyan\\work\\readonly\\test.csv\")\n",
    "    addresses = pd.read_csv(r\"C:\\Users\\blord\\Documents\\Code Projects\\Coursera\\Applied Machine Learning in Python\\Files\\home\\jovyan\\work\\readonly\\addresses.csv\")\n",
    "    latlons = pd.read_csv(r\"C:\\Users\\blord\\Documents\\Code Projects\\Coursera\\Applied Machine Learning in Python\\Files\\home\\jovyan\\work\\readonly\\latlons.csv\")\n",
    "\n",
    "#     train = train.set_index('ticket_id')\n",
    "    train = train[~(np.isnan(train['compliance']))]\n",
    "    train = pd.merge(train, pd.merge(addresses, latlons, on = 'address'), on = 'ticket_id')\n",
    "    train = train[train['country'] == 'USA']\n",
    "    train = train.drop(['agency_name', 'inspector_name', 'violator_name', 'non_us_str_code',  \n",
    "                'grafitti_status', 'ticket_issued_date', 'hearing_date','payment_amount','payment_date',\n",
    "               'payment_status', 'balance_due','collection_status','compliance_detail','violation_street_number',\n",
    "                'violation_street_name','violation_zip_code','mailing_address_str_number','mailing_address_str_name','city','state','zip_code','non_us_str_code',\n",
    "                'country','lat', 'lon'],axis =1)\n",
    "    le = LabelEncoder()\n",
    "    train['address'] = le.fit_transform(train['address'])\n",
    "    train['disposition'] = le.fit_transform(train['disposition'])\n",
    "    train['violation_code'] = le.fit_transform(train['violation_code'])\n",
    "    train['violation_description'] = le.fit_transform(train['violation_description'])\n",
    "#     train = train[~(np.isnan(train['lat']))]\n",
    "#     train = train[~(np.isnan(train['lon']))]\n",
    "#     train = train[~(np.isnan(train['address']))]\n",
    "    train = train.set_index('ticket_id')\n",
    "    y = train['compliance']\n",
    "    X = train.drop(['compliance',], axis = 1)\n",
    "    X_train, X_test, y_train, y_test = train_test_split(X, y, random_state = 0)\n",
    "    clf = GradientBoostingClassifier().fit(X_train, y_train)\n",
    "    \n",
    "    test = pd.merge(test, pd.merge(addresses, latlons, on = 'address'), on = 'ticket_id')\n",
    "    test = test[test['country'] == 'USA']\n",
    "    test = test.drop(['agency_name', 'inspector_name', 'violator_name', 'non_us_str_code',  \n",
    "                'grafitti_status', 'ticket_issued_date', 'hearing_date','violation_street_number',\n",
    "                'violation_street_name','violation_zip_code','mailing_address_str_number','mailing_address_str_name','city','state','zip_code','non_us_str_code',\n",
    "                'country','lat','lon'],axis =1)\n",
    "    test['address'] = le.fit_transform(test['address'])\n",
    "    test['disposition'] = le.fit_transform(test['disposition'])\n",
    "    test['violation_code'] = le.fit_transform(test['violation_code'])\n",
    "    test['violation_description'] = le.fit_transform(test['violation_description'])\n",
    "#     test = test[~(np.isnan(test['lat']))]\n",
    "#     test = test[~(np.isnan(test['lon']))]\n",
    "#     test = test[~(np.isnan(test['address']))]\n",
    "    test = test.set_index('ticket_id')\n",
    "    prediction_array = clf.predict_proba(test)[:,1]\n",
    "    compliance = pd.Series(prediction_array,index=test.index)\n",
    "    return compliance"
   ]
  },
  {
   "cell_type": "code",
   "execution_count": 50,
   "metadata": {
    "collapsed": false,
    "jupyter": {
     "outputs_hidden": false
    }
   },
   "outputs": [
    {
     "name": "stderr",
     "output_type": "stream",
     "text": [
      "C:\\Anaconda3\\lib\\site-packages\\ipykernel_launcher.py:1: DtypeWarning: Columns (11,12,31) have mixed types.Specify dtype option on import or set low_memory=False.\n",
      "  \"\"\"Entry point for launching an IPython kernel.\n"
     ]
    },
    {
     "data": {
      "text/plain": [
       "ticket_id\n",
       "284932    0.274379\n",
       "285362    0.060206\n",
       "285361    0.152820\n",
       "285338    0.158625\n",
       "285346    0.201300\n",
       "            ...   \n",
       "376496    0.061396\n",
       "376497    0.061396\n",
       "376499    0.212309\n",
       "376500    0.212309\n",
       "369851    0.857584\n",
       "Length: 61001, dtype: float64"
      ]
     },
     "execution_count": 50,
     "metadata": {},
     "output_type": "execute_result"
    }
   ],
   "source": [
    "blight_model()"
   ]
  },
  {
   "cell_type": "code",
   "execution_count": null,
   "metadata": {},
   "outputs": [],
   "source": []
  }
 ],
 "metadata": {
  "coursera": {
   "course_slug": "python-machine-learning",
   "graded_item_id": "nNS8l",
   "launcher_item_id": "yWWk7",
   "part_id": "w8BSS"
  },
  "kernelspec": {
   "display_name": "Python 3 (ipykernel)",
   "language": "python",
   "name": "python3"
  },
  "language_info": {
   "codemirror_mode": {
    "name": "ipython",
    "version": 3
   },
   "file_extension": ".py",
   "mimetype": "text/x-python",
   "name": "python",
   "nbconvert_exporter": "python",
   "pygments_lexer": "ipython3",
   "version": "3.7.9"
  }
 },
 "nbformat": 4,
 "nbformat_minor": 4
}
